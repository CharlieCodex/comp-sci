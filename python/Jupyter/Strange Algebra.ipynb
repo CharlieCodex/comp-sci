{
 "cells": [
  {
   "cell_type": "code",
   "execution_count": 1,
   "metadata": {
    "collapsed": true
   },
   "outputs": [],
   "source": [
    "class CplxNum:\n",
    "    def __init__(self, a, b, c, d):\n",
    "        self.a = a\n",
    "        self.b = b\n",
    "        self.c = c\n",
    "        self.d = d\n",
    "\n",
    "    def __add__(self, other):\n",
    "        return Num(self.a + other.a,\n",
    "                   self.b + other.b,\n",
    "                   self.c + other.c,\n",
    "                   self.d + other.d)\n",
    "\n",
    "    def __sub__(self, other):\n",
    "        return Num(self.a - other.a,\n",
    "                   self.b - other.b,\n",
    "                   self.c + other.c,\n",
    "                   self.d + other.d)\n",
    "\n",
    "    def __abs__(self):\n",
    "        return Num((self.a**2 + self.b**2)**(1/2), 0,\n",
    "                   (self.c**2 + self.d**2)**(1/2), 0)\n",
    "\n",
    "    def conj(self):\n",
    "        return Num(self.a, -self.b, self.c, self.d)\n",
    "\n",
    "    def __inv__(self):\n",
    "        mag = abs(self)\n",
    "        return self.conj() * Num(1 / mag.a ** 2, 0, mag.c / (mag.a**2), 0)\n",
    "\n",
    "    def __truediv__(self, other):\n",
    "        return self * other.__inv__()\n",
    "\n",
    "    def __mul__(self, other):\n",
    "        if isinstance(other, int) or isinstance(other, float):\n",
    "            return Num(other * self.a,\n",
    "                       other * self.b,\n",
    "                       other * self.c,\n",
    "                       other * self.d)\n",
    "        return Num(self.a * other.a - self.b * other.b,\n",
    "                   self.a * other.b + self.b * other.a,\n",
    "                   abs(self.a * other.c) + abs(self.c * other.a) - abs(self.d * other.b) - abs(self.b * other.d),\n",
    "                   abs(self.a * other.d) + abs(self.d * other.a) - abs(self.c * other.b) - abs(self.b * other.c))\n",
    "\n",
    "    def __repr__(self):\n",
    "        return \"{} + i{} + ∆{} + ∆i{}\".format(self.a, self.b, self.c, self.d)"
   ]
  },
  {
   "cell_type": "code",
   "execution_count": null,
   "metadata": {
    "collapsed": true
   },
   "outputs": [],
   "source": [
    "class Num:\n",
    "    def __init__(self, val, delta):\n",
    "        self.v = val\n",
    "        self.d = delta\n",
    "\n",
    "    def __add__(self, other):\n",
    "        if isinstance(other, Num):\n",
    "            return Num(self.v + other.v, self.d + other.d)\n",
    "        else:\n",
    "            return Num(self.v + other, self.d)\n",
    "\n",
    "    def __neg__(self):\n",
    "        return Num(-self.v, self.d)\n",
    "\n",
    "    def __sub__(self, other):\n",
    "        return self + (-other)\n",
    "\n",
    "    def __mul__(self, other):\n",
    "        return Num(self.v * other.v, self.v * other.d + self.d * other.v)"
   ]
  },
  {
   "cell_type": "code",
   "execution_count": 2,
   "metadata": {
    "collapsed": true
   },
   "outputs": [],
   "source": [
    "a = Num(3, 0, 1, 0)\n",
    "b = Num(3, 0, 1, 0)"
   ]
  },
  {
   "cell_type": "code",
   "execution_count": 3,
   "metadata": {},
   "outputs": [
    {
     "data": {
      "text/plain": [
       "6 + i0 + ∆2 + ∆i0"
      ]
     },
     "execution_count": 3,
     "metadata": {},
     "output_type": "execute_result"
    }
   ],
   "source": [
    "a + b"
   ]
  },
  {
   "cell_type": "code",
   "execution_count": 4,
   "metadata": {},
   "outputs": [
    {
     "data": {
      "text/plain": [
       "0 + i0 + ∆2 + ∆i0"
      ]
     },
     "execution_count": 4,
     "metadata": {},
     "output_type": "execute_result"
    }
   ],
   "source": [
    "a - b"
   ]
  },
  {
   "cell_type": "code",
   "execution_count": 5,
   "metadata": {},
   "outputs": [
    {
     "data": {
      "text/plain": [
       "9 + i0 + ∆6 + ∆i0"
      ]
     },
     "execution_count": 5,
     "metadata": {},
     "output_type": "execute_result"
    }
   ],
   "source": [
    "a * b"
   ]
  },
  {
   "cell_type": "code",
   "execution_count": 6,
   "metadata": {},
   "outputs": [
    {
     "data": {
      "text/plain": [
       "1.0 + i0.0 + ∆1.6666666666666665 + ∆i0.0"
      ]
     },
     "execution_count": 6,
     "metadata": {},
     "output_type": "execute_result"
    }
   ],
   "source": [
    "a / b"
   ]
  },
  {
   "cell_type": "code",
   "execution_count": 7,
   "metadata": {},
   "outputs": [
    {
     "data": {
      "text/plain": [
       "0.3333333333333333 + i0.0 + ∆0.4444444444444444 + ∆i0.0"
      ]
     },
     "execution_count": 7,
     "metadata": {},
     "output_type": "execute_result"
    }
   ],
   "source": [
    "a.__inv__()"
   ]
  },
  {
   "cell_type": "code",
   "execution_count": 8,
   "metadata": {},
   "outputs": [
    {
     "data": {
      "text/plain": [
       "3.0 + i0 + ∆1.0 + ∆i0"
      ]
     },
     "execution_count": 8,
     "metadata": {},
     "output_type": "execute_result"
    }
   ],
   "source": [
    "a.__abs__()"
   ]
  },
  {
   "cell_type": "code",
   "execution_count": null,
   "metadata": {
    "collapsed": true
   },
   "outputs": [],
   "source": []
  }
 ],
 "metadata": {
  "kernelspec": {
   "display_name": "Python 3",
   "language": "python",
   "name": "python3"
  },
  "language_info": {
   "codemirror_mode": {
    "name": "ipython",
    "version": 3
   },
   "file_extension": ".py",
   "mimetype": "text/x-python",
   "name": "python",
   "nbconvert_exporter": "python",
   "pygments_lexer": "ipython3",
   "version": "3.6.3"
  }
 },
 "nbformat": 4,
 "nbformat_minor": 2
}
