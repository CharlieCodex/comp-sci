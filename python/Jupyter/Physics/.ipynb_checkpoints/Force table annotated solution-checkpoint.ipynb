{
 "cells": [
  {
   "cell_type": "markdown",
   "metadata": {},
   "source": [
    "# Force table annotated solution\n",
    "## Problem statement\n",
    "....On a force table there are two weights hung, one at 0 degrees and one at 60 degress. The first weight has a mass of 1050 N and the second 550 N. In order to balance these forces, how much mass, at what angle would cancel out these two forces."
   ]
  },
  {
   "cell_type": "code",
   "execution_count": 1,
   "metadata": {
    "collapsed": true
   },
   "outputs": [],
   "source": [
    "import numpy as np"
   ]
  },
  {
   "cell_type": "markdown",
   "metadata": {},
   "source": [
    "Import the numpy library so we can do things like sin / cos  \n",
    "The first step in this problem will be to find the force opf the two weights combined. This will be done with vector addition. The first vector will be called F1 and the second F2.  \n",
    "Angles will be in radians but conversions will be visable"
   ]
  },
  {
   "cell_type": "code",
   "execution_count": 2,
   "metadata": {
    "collapsed": true
   },
   "outputs": [],
   "source": [
    "mag_F1 = 1050\n",
    "mag_F2 = 550\n",
    "ang_F1 = 0\n",
    "ang_F2 = 60 * np.pi / 180"
   ]
  },
  {
   "cell_type": "markdown",
   "metadata": {},
   "source": [
    "Let R be the resultant vector from adding F1 and F2  \n",
    "ie. R = F1 + F2  \n",
    "The following magnidute calculation is from the law of cosines,  \n",
    "the following angle calculation from the law of sines"
   ]
  },
  {
   "cell_type": "code",
   "execution_count": 3,
   "metadata": {
    "collapsed": true
   },
   "outputs": [],
   "source": [
    "alpha = np.pi + (ang_F1 - ang_F2)\n",
    "mag_R = np.sqrt(mag_F1 ** 2 + mag_F2 ** 2 - \n",
    "                2 * mag_F1 * mag_F2 * np.cos(alpha))\n",
    "ang_R = -ang_F1 + np.arcsin(mag_F2 / mag_R * np.sin(alpha))"
   ]
  },
  {
   "cell_type": "code",
   "execution_count": 4,
   "metadata": {},
   "outputs": [
    {
     "name": "stdout",
     "output_type": "stream",
     "text": [
      "R = 1408.0127840328723, 19.77261026030112º\n"
     ]
    }
   ],
   "source": [
    "print(\"R = {}, {}º\".format(mag_R, ang_R*180/np.pi))"
   ]
  },
  {
   "cell_type": "markdown",
   "metadata": {},
   "source": [
    "If we want to have a force that is of equal magnitude but opposite direction, we simply add 180º to the angle. This is equal to the negative of the vector sum"
   ]
  },
  {
   "cell_type": "code",
   "execution_count": 5,
   "metadata": {},
   "outputs": [
    {
     "name": "stdout",
     "output_type": "stream",
     "text": [
      "R = 1408.0127840328723, 199.77261026030112º\n"
     ]
    }
   ],
   "source": [
    "print(\"R = {}, {}º\".format(mag_R, ang_R*180/np.pi + 180))"
   ]
  },
  {
   "cell_type": "code",
   "execution_count": null,
   "metadata": {
    "collapsed": true
   },
   "outputs": [],
   "source": []
  }
 ],
 "metadata": {
  "kernelspec": {
   "display_name": "Python 3",
   "language": "python",
   "name": "python3"
  },
  "language_info": {
   "codemirror_mode": {
    "name": "ipython",
    "version": 3
   },
   "file_extension": ".py",
   "mimetype": "text/x-python",
   "name": "python",
   "nbconvert_exporter": "python",
   "pygments_lexer": "ipython3",
   "version": "3.6.3"
  }
 },
 "nbformat": 4,
 "nbformat_minor": 2
}
