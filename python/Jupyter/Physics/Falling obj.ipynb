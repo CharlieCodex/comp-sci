{
 "cells": [
  {
   "cell_type": "code",
   "execution_count": 12,
   "metadata": {},
   "outputs": [],
   "source": [
    "import numpy as np\n",
    "xvals = np.linspace(1, 23, 23)\n",
    "yvals = np.array((0.9, 2, 3.2, 5, 7.05, 9.55, 12.6, 15.9, 19.3, 23, 27.05, 31.3, 35.75, 40.5, 45.5,\n",
    "                  50.8, 56.6, 62.8, 69.4, 76, 83.1, 90.5, 97.9,))\n",
    "vals = np.dstack((xvals, yvals))"
   ]
  },
  {
   "cell_type": "code",
   "execution_count": 43,
   "metadata": {},
   "outputs": [],
   "source": [
    "vel = yvals[1:] - yvals[:-1]"
   ]
  },
  {
   "cell_type": "code",
   "execution_count": 44,
   "metadata": {},
   "outputs": [],
   "source": [
    "acc = vel[1:] - vel[:-1]"
   ]
  },
  {
   "cell_type": "code",
   "execution_count": 48,
   "metadata": {},
   "outputs": [
    {
     "data": {
      "text/plain": [
       "array([  1.00000000e-01,   6.00000000e-01,   2.50000000e-01,\n",
       "         4.50000000e-01,   5.50000000e-01,   2.50000000e-01,\n",
       "         1.00000000e-01,   3.00000000e-01,   3.50000000e-01,\n",
       "         2.00000000e-01,   2.00000000e-01,   3.00000000e-01,\n",
       "         2.50000000e-01,   3.00000000e-01,   5.00000000e-01,\n",
       "         4.00000000e-01,   4.00000000e-01,  -1.42108547e-14,\n",
       "         5.00000000e-01,   3.00000000e-01,   0.00000000e+00])"
      ]
     },
     "execution_count": 48,
     "metadata": {},
     "output_type": "execute_result"
    }
   ],
   "source": [
    "acc"
   ]
  },
  {
   "cell_type": "code",
   "execution_count": 49,
   "metadata": {},
   "outputs": [
    {
     "name": "stdout",
     "output_type": "stream",
     "text": [
      "0.9 | 1.1 | 0.10000000000000009\n",
      "2.0 | 1.2000000000000002 | 0.5999999999999996\n",
      "3.2 | 1.7999999999999998 | 0.25\n",
      "5.0 | 2.05 | 0.45000000000000107\n",
      "7.05 | 2.500000000000001 | 0.549999999999998\n",
      "9.55 | 3.049999999999999 | 0.2500000000000018\n",
      "12.6 | 3.3000000000000007 | 0.09999999999999964\n",
      "15.9 | 3.4000000000000004 | 0.29999999999999893\n",
      "19.3 | 3.6999999999999993 | 0.3500000000000014\n",
      "23.0 | 4.050000000000001 | 0.1999999999999993\n",
      "27.05 | 4.25 | 0.1999999999999993\n",
      "31.3 | 4.449999999999999 | 0.3000000000000007\n",
      "35.75 | 4.75 | 0.25\n",
      "40.5 | 5.0 | 0.29999999999999716\n",
      "45.5 | 5.299999999999997 | 0.5000000000000071\n",
      "50.8 | 5.800000000000004 | 0.3999999999999915\n",
      "56.6 | 6.199999999999996 | 0.4000000000000128\n",
      "62.8 | 6.6000000000000085 | -1.4210854715202004e-14\n",
      "69.4 | 6.599999999999994 | 0.5\n",
      "76.0 | 7.099999999999994 | 0.30000000000001137\n",
      "83.1 | 7.400000000000006 | \n",
      "90.5 |  | \n",
      "97.9 |  | \n"
     ]
    }
   ],
   "source": [
    "for n in range(len(yvals)):\n",
    "    print('{} | {} | {}'.format(yvals[n],\n",
    "                                vel[n] if n < len(vel) - 1 else '',\n",
    "                                acc[n] if n < len(acc) - 1 else ''))"
   ]
  },
  {
   "cell_type": "code",
   "execution_count": null,
   "metadata": {
    "collapsed": true
   },
   "outputs": [],
   "source": []
  }
 ],
 "metadata": {
  "kernelspec": {
   "display_name": "Python 3",
   "language": "python",
   "name": "python3"
  },
  "language_info": {
   "codemirror_mode": {
    "name": "ipython",
    "version": 3
   },
   "file_extension": ".py",
   "mimetype": "text/x-python",
   "name": "python",
   "nbconvert_exporter": "python",
   "pygments_lexer": "ipython3",
   "version": "3.6.3"
  }
 },
 "nbformat": 4,
 "nbformat_minor": 2
}
