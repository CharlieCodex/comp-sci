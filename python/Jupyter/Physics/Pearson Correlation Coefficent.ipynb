{
 "cells": [
  {
   "cell_type": "markdown",
   "metadata": {},
   "source": [
    "# Extension of Pearson Correlation Coefficent to all polynomials"
   ]
  },
  {
   "cell_type": "code",
   "execution_count": 4,
   "metadata": {
    "collapsed": true
   },
   "outputs": [],
   "source": [
    "import numpy as np"
   ]
  },
  {
   "cell_type": "code",
   "execution_count": 51,
   "metadata": {},
   "outputs": [],
   "source": [
    "def pcc(dataset):\n",
    "    x, y = dataset.T.astype(np.float64)\n",
    "    x_ = x.mean()\n",
    "    y_ = y.mean()\n",
    "    return np.sum((x - x_) * (y - y_)) /\\\n",
    "           (np.sqrt(np.sum((x - x_) ** 2))*np.sqrt(np.sum((y - y_) ** 2)))"
   ]
  },
  {
   "cell_type": "code",
   "execution_count": 65,
   "metadata": {},
   "outputs": [],
   "source": [
    "sample = np.array((np.linspace(0, 100, 100), (np.linspace(-50, 50, 100)), (np.linspace(-50, 50, 100) ** 2), (np.linspace(-50, 50, 100) ** 3)))"
   ]
  },
  {
   "cell_type": "code",
   "execution_count": 66,
   "metadata": {},
   "outputs": [
    {
     "name": "stdout",
     "output_type": "stream",
     "text": [
      "0.916576252222\n",
      "4.06981448213e-16\n",
      "1.0\n"
     ]
    }
   ],
   "source": [
    "print(pcc(sample[0:4:3].T))\n",
    "print(pcc(sample[0:3:2].T))\n",
    "print(pcc(sample[0:2:1].T))"
   ]
  },
  {
   "cell_type": "code",
   "execution_count": 54,
   "metadata": {},
   "outputs": [],
   "source": [
    "a = [x for x in range(10)]"
   ]
  },
  {
   "cell_type": "code",
   "execution_count": 57,
   "metadata": {},
   "outputs": [
    {
     "data": {
      "text/plain": [
       "[0, 3]"
      ]
     },
     "execution_count": 57,
     "metadata": {},
     "output_type": "execute_result"
    }
   ],
   "source": [
    "a[:4:3]"
   ]
  },
  {
   "cell_type": "code",
   "execution_count": null,
   "metadata": {
    "collapsed": true
   },
   "outputs": [],
   "source": []
  }
 ],
 "metadata": {
  "kernelspec": {
   "display_name": "Python 3",
   "language": "python",
   "name": "python3"
  },
  "language_info": {
   "codemirror_mode": {
    "name": "ipython",
    "version": 3
   },
   "file_extension": ".py",
   "mimetype": "text/x-python",
   "name": "python",
   "nbconvert_exporter": "python",
   "pygments_lexer": "ipython3",
   "version": "3.6.3"
  }
 },
 "nbformat": 4,
 "nbformat_minor": 2
}
