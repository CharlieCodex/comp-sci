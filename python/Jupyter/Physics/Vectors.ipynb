{
 "cells": [
  {
   "cell_type": "code",
   "execution_count": 5,
   "metadata": {
    "collapsed": true
   },
   "outputs": [],
   "source": [
    "import numpy as np"
   ]
  },
  {
   "cell_type": "code",
   "execution_count": 14,
   "metadata": {},
   "outputs": [
    {
     "name": "stdout",
     "output_type": "stream",
     "text": [
      "<class '__main__.Vector2'>\n"
     ]
    }
   ],
   "source": [
    "class Vector2:\n",
    "    class PolarVector(Vector2):\n",
    "        def __add__(self, other):\n",
    "            if isinstance(other, PolarVector):\n",
    "                theta = \n",
    "    @staticmethod\n",
    "    def from_polar(r, theta):\n",
    "        '''Create a Vector2 instance from a radius and angle'''\n",
    "        return Vector2(np.cos(theta / 180 * np.pi),\n",
    "                       np.sin(theta / 180 * np.pi)) * r\n",
    "    \n",
    "    def to_polar(self):\n",
    "        '''Convert the vector to a (radius, angle) tuple'''\n",
    "        return (np.sqrt(self.x ** 2 + self.y ** 2),\n",
    "                np.arctan2(self.y, self.x) * 180 / np.pi)\n",
    "    \n",
    "    def __init__(self, x, y):\n",
    "        '''Create a new Vector2 instance with components x and y'''\n",
    "        self.x = x\n",
    "        self.y = y\n",
    "\n",
    "    def __len__(self):\n",
    "        return (self.x ** 2 + self.y ** 2) ** (1/2)\n",
    "        \n",
    "    def __add__(self, other):\n",
    "        if isinstance(other, Vector2):\n",
    "            return Vector2(self.x + other.x, self.y + other.y)\n",
    "        elif isinstance(other, float) or isinstance(other, int):\n",
    "            return self + Vector2(other, other)\n",
    "        else:\n",
    "            assert TypeError(\"No valid definition for addition for Vector and {}\".format(other.__class__))\n",
    "\n",
    "    def __mul__(self, other):\n",
    "        if isinstance(other, float) or isinstance(other, int):\n",
    "            return Vector2(self.x * other, self.y * other)\n",
    "        else:\n",
    "            assert TypeError(\"No valid definition for multiplication for Vector and {}\".format(other.__class__))\n",
    "    \n",
    "    def __repr__(self):\n",
    "        return \"{} x^ + {} y^\".format(self.x, self.y)"
   ]
  },
  {
   "cell_type": "code",
   "execution_count": 10,
   "metadata": {},
   "outputs": [],
   "source": [
    "a = Vector2.from_polar(550, 60)\n",
    "b = Vector2.from_polar(1050, 0)"
   ]
  },
  {
   "cell_type": "code",
   "execution_count": 11,
   "metadata": {},
   "outputs": [
    {
     "data": {
      "text/plain": [
       "1325.0 x^ + 476.31397208144125 y^"
      ]
     },
     "execution_count": 11,
     "metadata": {},
     "output_type": "execute_result"
    }
   ],
   "source": [
    "a+b"
   ]
  },
  {
   "cell_type": "code",
   "execution_count": 12,
   "metadata": {},
   "outputs": [
    {
     "data": {
      "text/plain": [
       "(1408.0127840328723, 19.772610260301121)"
      ]
     },
     "execution_count": 12,
     "metadata": {},
     "output_type": "execute_result"
    }
   ],
   "source": [
    "(a+b).to_polar()"
   ]
  },
  {
   "cell_type": "code",
   "execution_count": null,
   "metadata": {
    "collapsed": true
   },
   "outputs": [],
   "source": []
  }
 ],
 "metadata": {
  "kernelspec": {
   "display_name": "Python 3",
   "language": "python",
   "name": "python3"
  },
  "language_info": {
   "codemirror_mode": {
    "name": "ipython",
    "version": 3
   },
   "file_extension": ".py",
   "mimetype": "text/x-python",
   "name": "python",
   "nbconvert_exporter": "python",
   "pygments_lexer": "ipython3",
   "version": "3.6.3"
  }
 },
 "nbformat": 4,
 "nbformat_minor": 2
}
