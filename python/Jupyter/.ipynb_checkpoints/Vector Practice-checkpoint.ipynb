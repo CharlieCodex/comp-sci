{
 "cells": [
  {
   "cell_type": "markdown",
   "metadata": {},
   "source": [
    "# Vector practice\n",
    "\n",
    "Two vectors:  \n",
    "||A|| = 8  \n",
    "||B|| = 21  \n",
    "The angle between A and B is theta  \n",
    "Theta = 65º"
   ]
  },
  {
   "cell_type": "code",
   "execution_count": 3,
   "metadata": {
    "collapsed": true
   },
   "outputs": [],
   "source": [
    "import numpy as np"
   ]
  },
  {
   "cell_type": "code",
   "execution_count": 4,
   "metadata": {
    "collapsed": true
   },
   "outputs": [],
   "source": [
    "Ax, Ay = 8, 0 # Represent the vector A in terms of its components"
   ]
  },
  {
   "cell_type": "code",
   "execution_count": 5,
   "metadata": {},
   "outputs": [],
   "source": [
    "theta = 65 / 180 * np.pi # Represent theta in radians for the sin / cos calculations"
   ]
  },
  {
   "cell_type": "code",
   "execution_count": 6,
   "metadata": {
    "collapsed": true
   },
   "outputs": [],
   "source": [
    "Bx, By = 21 * np.cos(theta), 21 * np.sin(theta) # Convert vector B from polar to perpendicular cartesian coordinates"
   ]
  },
  {
   "cell_type": "code",
   "execution_count": 7,
   "metadata": {
    "collapsed": true
   },
   "outputs": [],
   "source": [
    "Rx, Ry = Ax + Bx, Ay + By # If R = Rx x^ + Ry y^ then Rx = Ax + Bx and Ry = Ay + By"
   ]
  },
  {
   "cell_type": "code",
   "execution_count": 8,
   "metadata": {},
   "outputs": [
    {
     "name": "stdout",
     "output_type": "stream",
     "text": [
      "R = 16.874983496554687 x^ + 19.03246352776965 y^\n"
     ]
    }
   ],
   "source": [
    "print(\"R = {} x^ + {} y^\".format(Rx, Ry))"
   ]
  },
  {
   "cell_type": "code",
   "execution_count": 13,
   "metadata": {},
   "outputs": [],
   "source": [
    "alpha = np.arctan2(Ry, Rx) * 180 / np.pi # Find the angle alpha which describes R in comparason to A\n",
    "# arctan2(Ry, Rx) is basically just arctan(Ry/Rx) but checks if Rx is 0 and some other stuffs"
   ]
  },
  {
   "cell_type": "code",
   "execution_count": 14,
   "metadata": {
    "collapsed": true
   },
   "outputs": [],
   "source": [
    "mag_R = np.sqrt(Rx ** 2 + Ry ** 2) # Find the magnitude / length of R"
   ]
  },
  {
   "cell_type": "code",
   "execution_count": 15,
   "metadata": {},
   "outputs": [
    {
     "name": "stdout",
     "output_type": "stream",
     "text": [
      "R = 25.4361894934142, 48.43845292313378º\n"
     ]
    }
   ],
   "source": [
    "print(\"R = {}, {}º\".format(mag_R, alpha)) # Output in polar"
   ]
  },
  {
   "cell_type": "code",
   "execution_count": null,
   "metadata": {
    "collapsed": true
   },
   "outputs": [],
   "source": []
  }
 ],
 "metadata": {
  "kernelspec": {
   "display_name": "Python 3",
   "language": "python",
   "name": "python3"
  },
  "language_info": {
   "codemirror_mode": {
    "name": "ipython",
    "version": 3
   },
   "file_extension": ".py",
   "mimetype": "text/x-python",
   "name": "python",
   "nbconvert_exporter": "python",
   "pygments_lexer": "ipython3",
   "version": "3.6.3"
  }
 },
 "nbformat": 4,
 "nbformat_minor": 2
}
