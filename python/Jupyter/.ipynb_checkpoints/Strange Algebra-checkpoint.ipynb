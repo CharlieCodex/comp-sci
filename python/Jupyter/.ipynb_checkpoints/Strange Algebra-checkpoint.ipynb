{
 "cells": [
  {
   "cell_type": "code",
   "execution_count": 63,
   "metadata": {},
   "outputs": [],
   "source": [
    "class Num:\n",
    "    def __init__(self, a, b, c, d):\n",
    "        self.a = a\n",
    "        self.b = b\n",
    "        self.c = c\n",
    "        self.d = d\n",
    "\n",
    "    def __add__(self, other):\n",
    "        return Num(self.a + other.a,\n",
    "                   self.b + other.b,\n",
    "                   self.c + other.c,\n",
    "                   self.d + other.d)\n",
    "\n",
    "    def __sub__(self, other):\n",
    "        return Num(self.a - other.a,\n",
    "                   self.b - other.b,\n",
    "                   self.c + other.c,\n",
    "                   self.d + other.d)\n",
    "\n",
    "    def __abs__(self):\n",
    "        return Num((self.a**2 + self.b**2)**(1/2), 0,\n",
    "                   (self.c**2 + self.d**2)**(1/2), 0)\n",
    "\n",
    "    def conj(self):\n",
    "        return Num(self.a, -self.b, self.c, self.d)\n",
    "\n",
    "    def __inv__(self):\n",
    "        mag = abs(self)\n",
    "        return self.conj() * Num(mag.a, 0, mag.b / (mag.a**2))\n",
    "\n",
    "    def __div__(self, other):\n",
    "        return self * other.__inv__()\n",
    "\n",
    "    def __mul__(self, other):\n",
    "        if isinstance(other, int) or isinstance(other, float):\n",
    "            return Num(other * self.a, )\n",
    "        return Num(self.a * other.a - self.b * other.b,\n",
    "                   self.a * other.b + self.b * other.a,\n",
    "                   abs(self.a * other.c) + abs(self.c * other.a) - abs(self.d * other.b) - abs(self.b * other.d),\n",
    "                   abs(self.a * other.d) + abs(self.d * other.a) - abs(self.c * other.b) - abs(self.b * other.c))\n",
    "\n",
    "    def __repr__(self):\n",
    "        return \"{} + i{} + ∆{} + ∆i{}\".format(self.a, self.b, self.c, self.d)"
   ]
  },
  {
   "cell_type": "code",
   "execution_count": 72,
   "metadata": {
    "collapsed": true
   },
   "outputs": [],
   "source": [
    "a = Num(2, 0, 1, 0)\n",
    "b = Num(3, 0, 10, 0)"
   ]
  },
  {
   "cell_type": "code",
   "execution_count": 71,
   "metadata": {},
   "outputs": [
    {
     "name": "stdout",
     "output_type": "stream",
     "text": [
      "256 + i0 + ∆1024 + ∆i0\n"
     ]
    }
   ],
   "source": [
    "a + b"
   ]
  },
  {
   "cell_type": "code",
   "execution_count": 66,
   "metadata": {},
   "outputs": [
    {
     "data": {
      "text/plain": [
       "5 + i0 + ∆11 + ∆i0"
      ]
     },
     "execution_count": 66,
     "metadata": {},
     "output_type": "execute_result"
    }
   ],
   "source": [
    "a - b"
   ]
  },
  {
   "cell_type": "code",
   "execution_count": 61,
   "metadata": {},
   "outputs": [
    {
     "data": {
      "text/plain": [
       "-1 + i0 + ∆11 + ∆i0"
      ]
     },
     "execution_count": 61,
     "metadata": {},
     "output_type": "execute_result"
    }
   ],
   "source": [
    "a * b"
   ]
  },
  {
   "cell_type": "code",
   "execution_count": 62,
   "metadata": {},
   "outputs": [
    {
     "ename": "TypeError",
     "evalue": "unsupported operand type(s) for /: 'Num' and 'Num'",
     "output_type": "error",
     "traceback": [
      "\u001b[0;31m---------------------------------------------------------------------------\u001b[0m",
      "\u001b[0;31mTypeError\u001b[0m                                 Traceback (most recent call last)",
      "\u001b[0;32m<ipython-input-62-e2849c5acc5e>\u001b[0m in \u001b[0;36m<module>\u001b[0;34m()\u001b[0m\n\u001b[0;32m----> 1\u001b[0;31m \u001b[0ma\u001b[0m \u001b[0;34m/\u001b[0m \u001b[0mb\u001b[0m\u001b[0;34m\u001b[0m\u001b[0m\n\u001b[0m",
      "\u001b[0;31mTypeError\u001b[0m: unsupported operand type(s) for /: 'Num' and 'Num'"
     ]
    }
   ],
   "source": [
    "a / b"
   ]
  },
  {
   "cell_type": "code",
   "execution_count": null,
   "metadata": {
    "collapsed": true
   },
   "outputs": [],
   "source": []
  }
 ],
 "metadata": {
  "kernelspec": {
   "display_name": "Python 3",
   "language": "python",
   "name": "python3"
  },
  "language_info": {
   "codemirror_mode": {
    "name": "ipython",
    "version": 3
   },
   "file_extension": ".py",
   "mimetype": "text/x-python",
   "name": "python",
   "nbconvert_exporter": "python",
   "pygments_lexer": "ipython3",
   "version": "3.6.3"
  }
 },
 "nbformat": 4,
 "nbformat_minor": 2
}
