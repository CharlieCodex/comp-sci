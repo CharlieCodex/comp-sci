{
 "cells": [
  {
   "cell_type": "code",
   "execution_count": 8,
   "metadata": {
    "collapsed": true
   },
   "outputs": [],
   "source": [
    "import numpy as np"
   ]
  },
  {
   "cell_type": "code",
   "execution_count": 17,
   "metadata": {
    "collapsed": true
   },
   "outputs": [],
   "source": [
    "class Vector2:\n",
    "    @staticmethod\n",
    "    def from_polar(r, theta):\n",
    "        return Vector2(np.cos(theta / 180 * np.pi),\n",
    "                       np.sin(theta / 180 * np.pi)) * r\n",
    "    \n",
    "    def to_polar(self):\n",
    "        return (np.sqrt(self.x ** 2 + self.y ** 2),\n",
    "                np.arctan2(self.y, self.x) * 180 / np.pi)\n",
    "    \n",
    "    def __init__(self, x, y):\n",
    "        self.x = x\n",
    "        self.y = y\n",
    "\n",
    "    def __add__(self, other):\n",
    "        if isinstance(other, Vector2):\n",
    "            return Vector2(self.x + other.x, self.y + other.y)\n",
    "        elif isinstance(other, float) or isinstance(other, int):\n",
    "            return self + Vector2(other, other)\n",
    "        else:\n",
    "            assert TypeError(\"No valid definition for addition for Vector and {}\".format(other.__class__))\n",
    "\n",
    "    def __mul__(self, other):\n",
    "        if isinstance(other, Vector2):\n",
    "            pass\n",
    "        elif isinstance(other, float) or isinstance(other, int):\n",
    "            return Vector2(self.x * other, self.y * other)\n",
    "        else:\n",
    "            assert TypeError(\"No valid definition for addition for Vector and {}\".format(other.__class__))\n",
    "    \n",
    "    def __repr__(self):\n",
    "        return \"{} x^ + {} y^\".format(self.x, self.y)"
   ]
  },
  {
   "cell_type": "code",
   "execution_count": 18,
   "metadata": {},
   "outputs": [],
   "source": [
    "a = Vector2(9.7, 0)\n",
    "b = Vector2.from_polar(17.2, 50)"
   ]
  },
  {
   "cell_type": "code",
   "execution_count": 19,
   "metadata": {},
   "outputs": [
    {
     "data": {
      "text/plain": [
       "20.755946886608477 x^ + 13.175964421646421 y^"
      ]
     },
     "execution_count": 19,
     "metadata": {},
     "output_type": "execute_result"
    }
   ],
   "source": [
    "a+b"
   ]
  },
  {
   "cell_type": "code",
   "execution_count": 20,
   "metadata": {},
   "outputs": [
    {
     "data": {
      "text/plain": [
       "(24.584860577196782, 32.407556070004297)"
      ]
     },
     "execution_count": 20,
     "metadata": {},
     "output_type": "execute_result"
    }
   ],
   "source": [
    "(a+b).to_polar()"
   ]
  },
  {
   "cell_type": "code",
   "execution_count": null,
   "metadata": {
    "collapsed": true
   },
   "outputs": [],
   "source": []
  }
 ],
 "metadata": {
  "kernelspec": {
   "display_name": "Python 3",
   "language": "python",
   "name": "python3"
  },
  "language_info": {
   "codemirror_mode": {
    "name": "ipython",
    "version": 3
   },
   "file_extension": ".py",
   "mimetype": "text/x-python",
   "name": "python",
   "nbconvert_exporter": "python",
   "pygments_lexer": "ipython3",
   "version": "3.6.3"
  }
 },
 "nbformat": 4,
 "nbformat_minor": 2
}
