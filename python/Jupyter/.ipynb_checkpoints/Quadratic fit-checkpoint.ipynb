{
 "cells": [
  {
   "cell_type": "code",
   "execution_count": 1,
   "metadata": {
    "collapsed": true
   },
   "outputs": [],
   "source": [
    "import numpy as np\n",
    "from functools import reduce"
   ]
  },
  {
   "cell_type": "code",
   "execution_count": 2,
   "metadata": {
    "collapsed": true
   },
   "outputs": [],
   "source": [
    "data = 10*np.random.random(size=(50,3)).astype(np.float64)"
   ]
  },
  {
   "cell_type": "code",
   "execution_count": 3,
   "metadata": {},
   "outputs": [
    {
     "data": {
      "text/plain": [
       "array([[ 8.52072465,  4.79744237,  9.96234095],\n",
       "       [ 3.7235221 ,  1.11097119,  8.32738923],\n",
       "       [ 0.80638772,  7.59114942,  2.72489623],\n",
       "       [ 5.81189919,  7.08426853,  3.79595342],\n",
       "       [ 1.0519065 ,  6.35617466,  0.57257328],\n",
       "       [ 6.42945697,  9.48415513,  6.24193657],\n",
       "       [ 3.22458364,  7.05208869,  1.44799552],\n",
       "       [ 9.38381633,  2.99118814,  1.00208586],\n",
       "       [ 6.69232493,  7.76201712,  4.85847647],\n",
       "       [ 3.60508325,  6.59751882,  7.08843401]])"
      ]
     },
     "execution_count": 3,
     "metadata": {},
     "output_type": "execute_result"
    }
   ],
   "source": [
    "data[0:10]"
   ]
  },
  {
   "cell_type": "code",
   "execution_count": 4,
   "metadata": {
    "collapsed": true
   },
   "outputs": [],
   "source": [
    "def sample_data_from_eqs(data, n_samples=100):\n",
    "    for coeffs in data:\n",
    "        eq = polynomial(coeffs)\n",
    "        yield [(x, eq(x)) for x in np.linspace(0, 10, n_samples)]"
   ]
  },
  {
   "cell_type": "code",
   "execution_count": 5,
   "metadata": {
    "collapsed": true
   },
   "outputs": [],
   "source": [
    "def polynomial(coeffs):\n",
    "    return lambda x: sum([a*x**n for n, a in enumerate(coeffs)])"
   ]
  },
  {
   "cell_type": "code",
   "execution_count": 6,
   "metadata": {
    "collapsed": true
   },
   "outputs": [],
   "source": [
    "def rmse(dataset, eq):\n",
    "    total = 0\n",
    "    for sample in dataset:\n",
    "        val = eq(sample[0])\n",
    "        total += (val - sample[1]) ** 2\n",
    "    return (total / len(dataset)) ** (1/2)"
   ]
  },
  {
   "cell_type": "code",
   "execution_count": 7,
   "metadata": {
    "collapsed": true
   },
   "outputs": [],
   "source": [
    "def err(point, eq):\n",
    "    return -point[1] + eq(point[0])\n",
    "def dCda(dataset, eq):\n",
    "    num = 0\n",
    "    den = 0\n",
    "    n = float(len(dataset))\n",
    "    for point in dataset:\n",
    "        num += 2 * point[0] ** 2 * err(point, eq)\n",
    "        den += np.power(err(point, eq), 2)\n",
    "    return num / (2 * n * (den / n) ** (1/2))\n",
    "def dCdb(dataset, eq):\n",
    "    num = 0\n",
    "    den = 0\n",
    "    n = float(len(dataset))\n",
    "    for point in dataset:\n",
    "        num += 2 * point[0] * err(point, eq)\n",
    "        den += np.power(err(point, eq), 2)\n",
    "    return num / (2 * n * (den / n) ** (1/2))\n",
    "def dCdc(dataset, eq):\n",
    "    den = 0\n",
    "    n = float(len(dataset))\n",
    "    for point in dataset:\n",
    "        den += np.power(err(point, eq), 2)\n",
    "    return 1 / (2 * n * (den / n) ** (1/2))\n",
    "def d_dc(dataset, eq, p):\n",
    "    num = 0\n",
    "    den = 0\n",
    "    n = float(len(dataset))\n",
    "    for point in dataset:\n",
    "        num += 2 * point[0] ** p * err(point, eq)\n",
    "        den += np.power(err(point, eq), 2)\n",
    "    return num / (2 * n * (den / n) ** (1/2))"
   ]
  },
  {
   "cell_type": "code",
   "execution_count": 31,
   "metadata": {},
   "outputs": [
    {
     "name": "stdout",
     "output_type": "stream",
     "text": [
      "epoch: 0\n",
      "new sample ...  0  of  50\n",
      "new sample ...  1  of  50\n",
      "new sample ...  2  of  50\n",
      "new sample ...  3  of  50\n",
      "new sample ...  4  of  50\n",
      "new sample ...  5  of  50\n",
      "new sample ...  6  of  50\n",
      "new sample ...  7  of  50\n",
      "new sample ...  8  of  50\n",
      "new sample ...  9  of  50\n",
      "new sample ...  10  of  50\n",
      "new sample ...  11  of  50\n",
      "new sample ...  12  of  50\n",
      "new sample ...  13  of  50\n",
      "new sample ...  14  of  50\n",
      "new sample ...  15  of  50\n",
      "new sample ...  16  of  50\n",
      "new sample ...  17  of  50\n",
      "new sample ...  18  of  50\n",
      "new sample ...  19  of  50\n",
      "new sample ...  20  of  50\n",
      "new sample ...  21  of  50\n",
      "new sample ...  22  of  50\n",
      "new sample ...  23  of  50\n",
      "new sample ...  24  of  50\n",
      "new sample ...  25  of  50\n",
      "new sample ...  26  of  50\n",
      "new sample ...  27  of  50\n",
      "new sample ...  28  of  50\n",
      "new sample ...  29  of  50\n",
      "new sample ...  30  of  50\n",
      "new sample ...  31  of  50\n",
      "new sample ...  32  of  50\n",
      "new sample ...  33  of  50\n",
      "new sample ...  34  of  50\n",
      "new sample ...  35  of  50\n",
      "new sample ...  36  of  50\n",
      "new sample ...  37  of  50\n",
      "new sample ...  38  of  50\n",
      "new sample ...  39  of  50\n",
      "new sample ...  40  of  50\n",
      "new sample ...  41  of  50\n",
      "new sample ...  42  of  50\n",
      "new sample ...  43  of  50\n",
      "new sample ...  44  of  50\n",
      "new sample ...  45  of  50\n",
      "new sample ...  46  of  50\n",
      "new sample ...  47  of  50\n",
      "new sample ...  48  of  50\n",
      "new sample ...  49  of  50\n",
      "300 15.6468949533\n",
      "200 15.8855301393\n",
      "100 16.637243645\n",
      "breaking 91 32.2193503294\n"
     ]
    }
   ],
   "source": [
    "lr = 0.1\n",
    "costs1 = []\n",
    "costs2 = []\n",
    "costs3 = []\n",
    "break_costs = []\n",
    "_data = np.empty_like(data)\n",
    "epochs = 1\n",
    "for _ in range(epochs):\n",
    "    print('epoch: ' + str(_) + '\\r')\n",
    "    for sample_num, sample in enumerate(sample_data_from_eqs(data, 10)):\n",
    "        coeffs = 10*np.random.normal(0,1,3).astype(np.float_)\n",
    "        last_cost = None\n",
    "        print(\"new sample ... \", sample_num, \" of \", len(data))\n",
    "        for i in range(600):\n",
    "            learning_rate = lr / (i + 1) + 0.00001\n",
    "            eq = polynomial(coeffs)\n",
    "            cost = rmse(sample, eq)\n",
    "            if not last_cost:\n",
    "                last_cost = cost\n",
    "            elif cost > last_cost:\n",
    "                break_costs.append(cost)\n",
    "                # break\n",
    "            last_cost = cost\n",
    "            coeffs -= [learning_rate*d_dc(sample, eq, n) for n, a in enumerate(coeffs)]\n",
    "            if i == 100:\n",
    "                costs3.append(cost)\n",
    "            if i == 200:\n",
    "                costs2.append(cost)\n",
    "        else:\n",
    "            eq = polynomial(coeffs)\n",
    "            costs1.append(rmse(sample,\n",
    "                               eq))\n",
    "        _data[sample_num] = coeffs\n",
    "costs1 = np.array([val for val in costs1 if not np.isnan(val)])\n",
    "costs2 = np.array([val for val in costs2 if not np.isnan(val)])\n",
    "costs3 = np.array([val for val in costs3 if not np.isnan(val)])\n",
    "break_costs = np.array([val for val in break_costs if not np.isnan(val)])\n",
    "print('300', costs1.mean())\n",
    "print('200', costs2.mean())\n",
    "print('100', costs3.mean())\n",
    "print('breaking', len(break_costs), break_costs.mean())"
   ]
  },
  {
   "cell_type": "code",
   "execution_count": 30,
   "metadata": {},
   "outputs": [
    {
     "data": {
      "text/plain": [
       "array([ 0.32090988, -0.73432891, -0.81031086])"
      ]
     },
     "execution_count": 30,
     "metadata": {},
     "output_type": "execute_result"
    }
   ],
   "source": [
    "np.random.normal(0,1,3)"
   ]
  },
  {
   "cell_type": "code",
   "execution_count": null,
   "metadata": {},
   "outputs": [],
   "source": []
  },
  {
   "cell_type": "code",
   "execution_count": null,
   "metadata": {},
   "outputs": [],
   "source": []
  },
  {
   "cell_type": "code",
   "execution_count": null,
   "metadata": {},
   "outputs": [],
   "source": []
  },
  {
   "cell_type": "code",
   "execution_count": null,
   "metadata": {},
   "outputs": [],
   "source": []
  },
  {
   "cell_type": "code",
   "execution_count": null,
   "metadata": {},
   "outputs": [],
   "source": []
  },
  {
   "cell_type": "code",
   "execution_count": null,
   "metadata": {
    "collapsed": true
   },
   "outputs": [],
   "source": []
  },
  {
   "cell_type": "code",
   "execution_count": null,
   "metadata": {
    "collapsed": true
   },
   "outputs": [],
   "source": []
  },
  {
   "cell_type": "code",
   "execution_count": null,
   "metadata": {
    "collapsed": true
   },
   "outputs": [],
   "source": []
  }
 ],
 "metadata": {
  "kernelspec": {
   "display_name": "Python 3",
   "language": "python",
   "name": "python3"
  },
  "language_info": {
   "codemirror_mode": {
    "name": "ipython",
    "version": 3
   },
   "file_extension": ".py",
   "mimetype": "text/x-python",
   "name": "python",
   "nbconvert_exporter": "python",
   "pygments_lexer": "ipython3",
   "version": "3.6.3"
  }
 },
 "nbformat": 4,
 "nbformat_minor": 2
}
