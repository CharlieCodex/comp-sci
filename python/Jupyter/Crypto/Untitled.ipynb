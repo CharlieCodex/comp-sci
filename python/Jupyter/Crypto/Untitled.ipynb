{
 "cells": [
  {
   "cell_type": "code",
   "execution_count": 58,
   "metadata": {
    "collapsed": true
   },
   "outputs": [],
   "source": [
    "import numpy as np"
   ]
  },
  {
   "cell_type": "code",
   "execution_count": 75,
   "metadata": {
    "collapsed": true
   },
   "outputs": [],
   "source": [
    "pts1 = pts2 = np.random.random((1000, 2)) * 50 - 25"
   ]
  },
  {
   "cell_type": "code",
   "execution_count": 76,
   "metadata": {
    "collapsed": true
   },
   "outputs": [],
   "source": [
    "def henoner(a, b):\n",
    "    def henon(pt):\n",
    "        x, y = pt\n",
    "        return np.array((1 - a * x ** 2 + y, b * x))\n",
    "    return henon\n",
    "\n",
    "def moduler(n):\n",
    "    def mod(pt):\n",
    "        x, y = pt\n",
    "        return np.array((x % n, y % n))\n",
    "    return mod"
   ]
  },
  {
   "cell_type": "code",
   "execution_count": 92,
   "metadata": {
    "collapsed": true
   },
   "outputs": [],
   "source": [
    "func1 = henoner(.125, -1)\n",
    "func2 = henoner(.126, -1)"
   ]
  },
  {
   "cell_type": "code",
   "execution_count": 93,
   "metadata": {
    "collapsed": true
   },
   "outputs": [],
   "source": [
    "pts1 = map(func1, pts1)\n",
    "pts1 = np.array(list(map(moduler(10), pts1)))\n",
    "pts2 = map(func2, pts2)\n",
    "pts2 = np.array(list(map(moduler(10), pts2)))"
   ]
  },
  {
   "cell_type": "code",
   "execution_count": 94,
   "metadata": {},
   "outputs": [
    {
     "data": {
      "text/plain": [
       "array([-6.21900018,  6.3905485 ])"
      ]
     },
     "execution_count": 94,
     "metadata": {},
     "output_type": "execute_result"
    }
   ],
   "source": [
    "pts1[0] - pts2[0]"
   ]
  },
  {
   "cell_type": "code",
   "execution_count": null,
   "metadata": {
    "collapsed": true
   },
   "outputs": [],
   "source": []
  }
 ],
 "metadata": {
  "kernelspec": {
   "display_name": "Python 3",
   "language": "python",
   "name": "python3"
  },
  "language_info": {
   "codemirror_mode": {
    "name": "ipython",
    "version": 3
   },
   "file_extension": ".py",
   "mimetype": "text/x-python",
   "name": "python",
   "nbconvert_exporter": "python",
   "pygments_lexer": "ipython3",
   "version": "3.6.3"
  }
 },
 "nbformat": 4,
 "nbformat_minor": 2
}
